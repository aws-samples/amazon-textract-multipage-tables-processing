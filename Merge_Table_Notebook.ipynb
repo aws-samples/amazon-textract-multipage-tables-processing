{
 "cells": [
  {
   "cell_type": "markdown",
   "metadata": {},
   "source": [
    "Copyright Amazon.com, Inc. or its affiliates. All Rights Reserved._\n",
    "\n",
    "SPDX-License-Identifier: MIT-0\n",
    "\n",
    "# Handling Multi Page Tables in Textract"
   ]
  },
  {
   "cell_type": "markdown",
   "metadata": {},
   "source": [
    "## Background\n",
    "\n",
    "In this notebook, we will cover how to detect and merge single tables that span multiple pages. <br />\n",
    "All document samples used are available in the *document_input* folder.\n"
   ]
  },
  {
   "cell_type": "markdown",
   "metadata": {},
   "source": [
    "## Setup\n",
    "_This Notebook was created on ml.t2.medium notebook instances._\n",
    "\n",
    "Let's start by install and import all neccessary libaries:"
   ]
  },
  {
   "cell_type": "code",
   "execution_count": null,
   "metadata": {
    "scrolled": true
   },
   "outputs": [],
   "source": [
    "!pip install amazon-textract-response-parser\n",
    "!pip install amazon-textract-prettyprinter\n",
    "!pip install amazon-textract-helper"
   ]
  },
  {
   "cell_type": "code",
   "execution_count": null,
   "metadata": {},
   "outputs": [],
   "source": [
    "import os\n",
    "import json\n",
    "from trp.t_pipeline import pipeline_merge_tables\n",
    "import trp.trp2 as t2\n",
    "from textractcaller.t_call import call_textract, Textract_Features\n",
    "from textractprettyprinter.t_pretty_print import Textract_Pretty_Print, get_string, get_tables_string, Pretty_Print_Table_Format\n",
    "from trp.trp2 import TDocument, TDocumentSchema\n",
    "from trp.t_tables import MergeOptions, HeaderFooterType\n",
    "import boto3\n",
    "textract_client = boto3.client('textract', region_name='us-east-2')"
   ]
  },
  {
   "cell_type": "markdown",
   "metadata": {},
   "source": [
    "## Call Textract Command-line Tool\n",
    "amazon-textract-helper provides a collection of ready to use functions and sample implementations to speed up the evaluation and development for any project using Amazon Textract. It installs a command line tool called amazon-textract.\n",
    "Make sure your environment is setup with AWS credentials through configuration files or environment variables or an attached role. You can replace the S3 URI for pdf documents with your own. (https://docs.aws.amazon.com/cli/latest/userguide/cli-chap-configure.html)"
   ]
  },
  {
   "cell_type": "code",
   "execution_count": null,
   "metadata": {},
   "outputs": [],
   "source": [
    "s3_uri_of_documents = \"s3://amazon-textract-public-content/multi-page-table/MPT_sample01-multi_page_table.pdf\"\n",
    "textract_json = call_textract(input_document=s3_uri_of_documents, features=[Textract_Features.FORMS, Textract_Features.TABLES], boto3_textract_client = textract_client)"
   ]
  },
  {
   "cell_type": "markdown",
   "metadata": {},
   "source": [
    "## Pretty print the output (pre-table merge)\n",
    "Pretty print outputs nicely formatted information for words, lines, forms or tables. The pretty print command requires to read a file. So first we write the response into a json file. As you can see, there are two separate tables printed by this function."
   ]
  },
  {
   "cell_type": "code",
   "execution_count": null,
   "metadata": {},
   "outputs": [],
   "source": [
    "import pandas as pd\n",
    "from trp import Document\n",
    "from textractprettyprinter.t_pretty_print import convert_table_to_list\n",
    "from IPython.display import display\n",
    "\n",
    "def PrettyPrintTables(textract_json):\n",
    "    df = None\n",
    "    table_count = 0\n",
    "    tdoc = Document(textract_json)\n",
    "    for page in tdoc.pages:\n",
    "      for table in page.tables:\n",
    "        table_count += 1\n",
    "        df = pd.DataFrame(convert_table_to_list(trp_table=table))\n",
    "        print('Table id:', table.id, 'Row count:', len(df.index))\n",
    "        display(df)"
   ]
  },
  {
   "cell_type": "code",
   "execution_count": null,
   "metadata": {},
   "outputs": [],
   "source": [
    "PrettyPrintTables(textract_json)"
   ]
  },
  {
   "cell_type": "markdown",
   "metadata": {},
   "source": [
    "## Merge tables across pages\n",
    "Sometimes tables start on one page and continue across the next page or pages. This component identifies if that is the case based on the number of columns and if a header is present on the subsequent table and can modify the output Textract JSON schema for down-stream processing. Other custom-logic is possible to develop for specific use cases.\n",
    "\n",
    "The MergeOptions.MERGE combines the tables and makes them appear as one for post processing, with the drawback that the geometry information is not accuracy any longer. So overlaying with bounding boxes will not be accuracy.\n",
    "\n",
    "The MergeOptions.LINK maintains the geometric structure and enriches the table information with links between the table elements. There is a custom['previus_table'] and custom['next_table'] attribute added to the TABLE blocks in the Textract JSON schema."
   ]
  },
  {
   "cell_type": "code",
   "execution_count": null,
   "metadata": {},
   "outputs": [],
   "source": [
    "t_document: t2.TDocument = t2.TDocumentSchema().load(textract_json)    \n",
    "t_document = pipeline_merge_tables(t_document, MergeOptions.MERGE, None, HeaderFooterType.NONE)\n",
    "json_data = t2.TDocumentSchema().dump(t_document)   "
   ]
  },
  {
   "cell_type": "markdown",
   "metadata": {},
   "source": [
    "#### Pretty print the output (post-table merge)\n",
    "As you can see, both tables are merged into one table."
   ]
  },
  {
   "cell_type": "code",
   "execution_count": null,
   "metadata": {},
   "outputs": [],
   "source": [
    "PrettyPrintTables(json_data)"
   ]
  },
  {
   "cell_type": "markdown",
   "metadata": {},
   "source": [
    "## Link tables across pages\n",
    "The MergeOptions.LINK maintains the geometric structure and enriches the table information with links between the table elements. There is a custom['previus_table'] and custom['next_table'] attribute added to the TABLE blocks in the Textract JSON schema."
   ]
  },
  {
   "cell_type": "code",
   "execution_count": null,
   "metadata": {},
   "outputs": [],
   "source": [
    "t_document: t2.TDocument = t2.TDocumentSchema().load(textract_json)    \n",
    "t_document = pipeline_merge_tables(t_document, MergeOptions.LINK, None, HeaderFooterType.NONE)  "
   ]
  },
  {
   "cell_type": "code",
   "execution_count": null,
   "metadata": {
    "tags": []
   },
   "outputs": [],
   "source": [
    "for b in t_document.blocks:\n",
    "    if b.block_type == t2.TextractBlockTypes.TABLE.name:\n",
    "        print('---------------')\n",
    "        print('Table id: ' + b.id)\n",
    "        print(b.custom)\n",
    "        "
   ]
  },
  {
   "cell_type": "markdown",
   "metadata": {},
   "source": [
    "## Additional Examples: The tool identifies and merges tables across the document\n",
    "In this example, the document contains multiple tables across the document. Two pairs of tables require to be merged."
   ]
  },
  {
   "cell_type": "code",
   "execution_count": null,
   "metadata": {},
   "outputs": [],
   "source": [
    "textract_json = call_textract(input_document=\"s3://amazon-textract-public-content/multi-page-table/MPT_sample02-multi_tables.pdf\",features=[Textract_Features.FORMS, Textract_Features.TABLES], boto3_textract_client = textract_client)\n",
    "PrettyPrintTables(textract_json)"
   ]
  },
  {
   "cell_type": "markdown",
   "metadata": {},
   "source": [
    "#### Merge tables with 95% dimension tolerance\n",
    "We use a custom accuracy of 95% to calculate table similarity. By default, the component uses 99%"
   ]
  },
  {
   "cell_type": "code",
   "execution_count": null,
   "metadata": {},
   "outputs": [],
   "source": [
    "t_document: t2.TDocument = t2.TDocumentSchema().load(textract_json)    \n",
    "t_document = pipeline_merge_tables(t_document, MergeOptions.MERGE, None, HeaderFooterType.NONE, 95)\n",
    "json_data = t2.TDocumentSchema().dump(t_document)\n",
    "PrettyPrintTables(json_data)"
   ]
  },
  {
   "cell_type": "markdown",
   "metadata": {},
   "source": [
    "## Additional Examples: Merging a table that extends across pages\n",
    "This example has a table that extends across pages 1,2 and 3 and requires to be merged."
   ]
  },
  {
   "cell_type": "code",
   "execution_count": null,
   "metadata": {},
   "outputs": [],
   "source": [
    "textract_json = call_textract(input_document=\"s3://amazon-textract-public-content/multi-page-table/MPT_sample03-long_multi_page_table.pdf\",features=[Textract_Features.FORMS, Textract_Features.TABLES], boto3_textract_client = textract_client)\n",
    "PrettyPrintTables(textract_json)"
   ]
  },
  {
   "cell_type": "code",
   "execution_count": null,
   "metadata": {},
   "outputs": [],
   "source": [
    "t_document: t2.TDocument = t2.TDocumentSchema().load(textract_json)    \n",
    "t_document = pipeline_merge_tables(t_document, MergeOptions.MERGE, None, HeaderFooterType.NONE)\n",
    "json_data = t2.TDocumentSchema().dump(t_document)\n",
    "PrettyPrintTables(json_data)"
   ]
  },
  {
   "cell_type": "markdown",
   "metadata": {},
   "source": [
    "## Additional Examples: Merging tables when the Pages have headers and footers\n",
    "The document contains header and footer values that can be ignored while assessing tables to be merged. This example has both a header and a footer."
   ]
  },
  {
   "cell_type": "code",
   "execution_count": null,
   "metadata": {},
   "outputs": [],
   "source": [
    "textract_json = call_textract(input_document=\"s3://amazon-textract-public-content/multi-page-table/MPT_sample04-header_footer_table.pdf\",features=[Textract_Features.FORMS, Textract_Features.TABLES], boto3_textract_client = textract_client)\n",
    "PrettyPrintTables(textract_json)"
   ]
  },
  {
   "cell_type": "code",
   "execution_count": null,
   "metadata": {},
   "outputs": [],
   "source": [
    "t_document: t2.TDocument = t2.TDocumentSchema().load(textract_json)    \n",
    "t_document = pipeline_merge_tables(t_document, MergeOptions.MERGE, None, HeaderFooterType.NORMAL)\n",
    "json_data = t2.TDocumentSchema().dump(t_document)\n",
    "PrettyPrintTables(json_data)"
   ]
  },
  {
   "cell_type": "markdown",
   "metadata": {},
   "source": [
    "## Creating a Custom Table Detection Function\n",
    "The component allows you to use your own table detection logic by passing the function to the pipeline_merge_tables function.\n",
    "In the below example, we use a sample custom function that merges successive tables together"
   ]
  },
  {
   "cell_type": "code",
   "execution_count": null,
   "metadata": {},
   "outputs": [],
   "source": [
    "textract_json = call_textract(input_document=\"s3://amazon-textract-public-content/multi-page-table/MPT_sample02-multi_tables.pdf\",features=[Textract_Features.FORMS, Textract_Features.TABLES], boto3_textract_client = textract_client)\n",
    "PrettyPrintTables(textract_json)"
   ]
  },
  {
   "cell_type": "code",
   "execution_count": null,
   "metadata": {},
   "outputs": [],
   "source": [
    "from trp.t_pipeline import order_blocks_by_geo\n",
    "\n",
    "def CustomTableDetectionFunction(t_document):\n",
    "    table_ids_merge_list = []\n",
    "    table_id_pairs = []\n",
    "    ordered_doc = order_blocks_by_geo(t_document)\n",
    "    trp_doc = Document(TDocumentSchema().dump(ordered_doc))\n",
    "    for current_page in trp_doc.pages:\n",
    "        if(len(current_page.tables) == 0):\n",
    "            break\n",
    "        for table in current_page.tables:\n",
    "            table_id_pairs.append(table.id)\n",
    "            if(len(table_id_pairs) > 1):\n",
    "                table_ids_merge_list.append(table_id_pairs.copy())\n",
    "                table_id_pairs.clear()\n",
    "    return table_ids_merge_list\n",
    "\n",
    "\n",
    "t_document: t2.TDocument = t2.TDocumentSchema().load(textract_json)    \n",
    "t_document = pipeline_merge_tables(t_document, MergeOptions.MERGE, CustomTableDetectionFunction, HeaderFooterType.NORMAL)\n",
    "json_data = t2.TDocumentSchema().dump(t_document)\n",
    "PrettyPrintTables(json_data)"
   ]
  }
 ],
 "metadata": {
  "instance_type": "ml.t3.medium",
  "interpreter": {
   "hash": "ac2eaa0ea0ebeafcc7822e65e46aa9d4f966f30b695406963e145ea4a91cd4fc"
  },
  "kernelspec": {
   "display_name": "Python 3 (Data Science)",
   "language": "python",
   "name": "python3__SAGEMAKER_INTERNAL__arn:aws:sagemaker:us-east-1:081325390199:image/datascience-1.0"
  },
  "language_info": {
   "codemirror_mode": {
    "name": "ipython",
    "version": 3
   },
   "file_extension": ".py",
   "mimetype": "text/x-python",
   "name": "python",
   "nbconvert_exporter": "python",
   "pygments_lexer": "ipython3",
   "version": "3.7.10"
  }
 },
 "nbformat": 4,
 "nbformat_minor": 4
}
